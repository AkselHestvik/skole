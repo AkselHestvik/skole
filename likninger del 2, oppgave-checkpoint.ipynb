{
 "cells": [
  {
   "cell_type": "markdown",
   "metadata": {},
   "source": [
    "# Likninger"
   ]
  },
  {
   "cell_type": "markdown",
   "metadata": {},
   "source": [
    "## Å skyte spurver med kanoner - forsøk"
   ]
  },
  {
   "cell_type": "code",
   "execution_count": 30,
   "metadata": {},
   "outputs": [
    {
     "name": "stdout",
     "output_type": "stream",
     "text": [
      "Tid:  1.835 Avstand:  28.603\n",
      "---------------------------------\n",
      "Tid:  2.157 Avstand:  31.411\n",
      "---------------------------------\n",
      "Tid:  2.595 Avstand:  33.028\n",
      "---------------------------------\n",
      "Tid:  3.178 Avstand:  28.603\n",
      "---------------------------------\n",
      "Den største avstanden er 33.028 m, og tiden er 2.595 sekunder\n"
     ]
    }
   ],
   "source": [
    "from pylab import *\n",
    "\n",
    "\n",
    "def y(t, v0, theta):\n",
    "    g = 9.81\n",
    "    return v0 * sin(theta) * t - 0.5 * g * t**2\n",
    "\n",
    "def yder(t, v0, theta):\n",
    "    g = 9.81\n",
    "    return v0 * sin(theta) - g * t\n",
    "\n",
    "def x(t, v0, theta):\n",
    "    return v0 * cos(theta) * t\n",
    "\n",
    "def newtons(f, fder, x, v0, theta, tol = 1E-8, N = 100):\n",
    "    i = 0\n",
    "    while abs(f(x, v0, theta)) > tol and i <= 100:\n",
    "        x = x - f(x, v0, theta)/fder(x, v0, theta)\n",
    "        i+=1\n",
    "    return x\n",
    "\n",
    "greatest = 0\n",
    "greatesttid = 0\n",
    "thetaverdier = [pi/6, pi/5, pi/4, pi/3]\n",
    "for abc in thetaverdier:\n",
    "    tid = newtons(y, yder, 10, 18, abc)\n",
    "    avstand = x(tid, 18, abc)\n",
    "    print(\"Tid: \", round(tid, 3), \"Avstand: \", round(avstand, 3))\n",
    "    print(\"---------------------------------\")\n",
    "    if avstand > greatest:\n",
    "        greatest = avstand\n",
    "        greatesttid = tid\n",
    "\n",
    "print(\"Den største avstanden er {} m, og tiden er {} sekunder\" .format(round(greatest, 3), round(greatesttid, 3)))"
   ]
  },
  {
   "cell_type": "markdown",
   "metadata": {},
   "source": [
    "Når Simen og jeg gjorde forsøket i virkeligheten gikk kulen mye kortere enn det koden sa. \n",
    "Det kan være fordi vi ikke regnet med luftmotsand. "
   ]
  },
  {
   "cell_type": "markdown",
   "metadata": {},
   "source": [
    "## Halveringsmetoden"
   ]
  },
  {
   "cell_type": "code",
   "execution_count": 1,
   "metadata": {},
   "outputs": [
    {
     "name": "stdout",
     "output_type": "stream",
     "text": [
      "x verdien når y = 0:  -2.0\n",
      "Den kjører så mange ganger:  54\n"
     ]
    }
   ],
   "source": [
    "def f(x):\n",
    "    return x**2 - 4\n",
    "\n",
    "a = -15\n",
    "b = 15\n",
    "m = (a+b)/2\n",
    "runder = 0\n",
    "\n",
    "tol = 1E-16\n",
    "\n",
    "def halveringsmetode():\n",
    "    global a\n",
    "    global b\n",
    "    global m\n",
    "    global runder\n",
    "    \n",
    "    \n",
    "    while abs(f(m)) > tol:\n",
    "    \n",
    "        if f(a)*f(m) < 0:\n",
    "            b = m\n",
    "\n",
    "        elif f(b)*f(m) < 0:\n",
    "            a = m\n",
    "\n",
    "        m = (a+b)/2\n",
    "        runder += 1\n",
    "\n",
    "halveringsmetode()\n",
    "print(\"x verdien når y = 0: \", m)\n",
    "print(\"Den kjører så mange ganger: \", runder)"
   ]
  },
  {
   "cell_type": "markdown",
   "metadata": {},
   "source": [
    "Halveringsmetoden blir brukt til å finne et nullpunkt i en funksjon. \n",
    "Måten den funker er at man velger to forskjellige punkt på en graf med forskjellige fortegn. Man setter så et punkt midt mellom.\n",
    "Så flytter man det punktet lengst unna nullpunktet til det nye, og fortsetter med det helt til man er så nærme som mulig nullpunktet.\n",
    "Det kan være smart å ha en liten feil, fordi denne vil bruke mange runder på å klare å finne det eksakte tallet.\n",
    "\n"
   ]
  },
  {
   "cell_type": "markdown",
   "metadata": {},
   "source": [
    "## Newtons metode"
   ]
  },
  {
   "cell_type": "markdown",
   "metadata": {},
   "source": [
    "$$x_{n+1} = x_n - \\frac{f(x_n}{f'(x_n)}$$"
   ]
  },
  {
   "cell_type": "code",
   "execution_count": 2,
   "metadata": {},
   "outputs": [
    {
     "name": "stdout",
     "output_type": "stream",
     "text": [
      "nullpunktet er:  2.0000000000000235 og løkka gikk 14 ganger.\n"
     ]
    }
   ],
   "source": [
    "def f(x):\n",
    "    return x**2 - 4\n",
    "\n",
    "def fder(x):\n",
    "    return 2*x\n",
    "\n",
    "def newtons(f, fder, x, tol = 1E-8):\n",
    "    i = 0\n",
    "    while abs(f(x)) > tol and i < 1000:\n",
    "        x = x - f(x)/fder(x)\n",
    "        i += 1\n",
    "    return x, i\n",
    "\n",
    "nullpunkt, antall = newtons(f, fder, 2000)\n",
    "print(\"nullpunktet er: \", nullpunkt, \"og løkka gikk\", antall, \"ganger.\")"
   ]
  },
  {
   "cell_type": "markdown",
   "metadata": {},
   "source": [
    "Newtons metode blir brukt til å finne en ønsket tilnærming av et nullpunkt på en funksjon. Vi velger selv hvor nærme den skal komme, men det kan være vanskelig å komme helt på riktig punkt. Derfor kan det være smart å ha en milliardsdel feil, fordi den er nærme nok.\n",
    "Noen svakheter med metoden er at hvis den møter topp eller bunnpunkter stopper den å funke, fordi vi ikke kan dele på 0."
   ]
  },
  {
   "cell_type": "code",
   "execution_count": null,
   "metadata": {},
   "outputs": [],
   "source": []
  }
 ],
 "metadata": {
  "kernelspec": {
   "display_name": "Python 3",
   "language": "python",
   "name": "python3"
  },
  "language_info": {
   "codemirror_mode": {
    "name": "ipython",
    "version": 3
   },
   "file_extension": ".py",
   "mimetype": "text/x-python",
   "name": "python",
   "nbconvert_exporter": "python",
   "pygments_lexer": "ipython3",
   "version": "3.7.3"
  }
 },
 "nbformat": 4,
 "nbformat_minor": 2
}
