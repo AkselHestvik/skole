{
 "cells": [
  {
   "cell_type": "markdown",
   "metadata": {},
   "source": [
    "# Numerisk derivasjon"
   ]
  },
  {
   "cell_type": "markdown",
   "metadata": {},
   "source": [
    "a) en sekant er en linje som krysser minst to punkter på en kurve eller en annen graf.\n",
    "Sekanten er gjennomsnitts vekstfarten mellom de to punktene."
   ]
  },
  {
   "cell_type": "markdown",
   "metadata": {},
   "source": [
    "b) En tangent er en linje som tangerer et sted på en graf på et sted. \n",
    "Den sier det momentane stigningsfarten til det punktet."
   ]
  },
  {
   "cell_type": "markdown",
   "metadata": {},
   "source": [
    "c) Derivasjon sier noe om stigningen i forskjellige punkt, og endringen til stigningen"
   ]
  },
  {
   "cell_type": "markdown",
   "metadata": {},
   "source": [
    "d) Newtons kvotient er skrives slik:\n",
    "    $$f'(x) = \\lim_{\\Delta x \\to 0} \\frac{f(x + h) - f(x)}h$$\n",
    "    \n",
    "Newtons kvotient sier at h er et veldig lite tall, for eks 10^-8, men definisjonen av den dervierte sier at delta h går mot null. Definisjonen av den deriverte er derfor enda mer nyaktig.\n",
    "\n"
   ]
  },
  {
   "cell_type": "code",
   "execution_count": 2,
   "metadata": {},
   "outputs": [
    {
     "name": "stdout",
     "output_type": "stream",
     "text": [
      "1.999999987845058\n"
     ]
    }
   ],
   "source": [
    "from pylab import *\n",
    "\n",
    "def f(x):\n",
    "    return x**2\n",
    "\n",
    "def fder(f, x, h = 1E-8):\n",
    "    return (f(x + h) - f(x))/h\n",
    "    \n",
    "\n",
    "df = fder(f, 1)\n",
    "print(df)"
   ]
  },
  {
   "cell_type": "markdown",
   "metadata": {},
   "source": [
    "Her er Newtons kvotient 1,99999, men det analytiske svaret ville ha vært 2"
   ]
  },
  {
   "cell_type": "markdown",
   "metadata": {},
   "source": [
    "e) Min favorittfunksjon er 3*x**2 + 5x - 2"
   ]
  },
  {
   "cell_type": "code",
   "execution_count": 8,
   "metadata": {},
   "outputs": [
    {
     "name": "stdout",
     "output_type": "stream",
     "text": [
      "For delta x = 0.1 er feilen lik: 0.30000000000000426\n",
      "For delta x = 0.01 er feilen lik: 0.02999999999974534\n",
      "For delta x = 0.001 er feilen lik: 0.002999999998991143\n",
      "For delta x = 0.0001 er feilen lik: 0.00030000002072938514\n",
      "For delta x = 1e-05 er feilen lik: 3.0000247079442488e-05\n",
      "For delta x = 1e-06 er feilen lik: 3.0053074624447618e-06\n",
      "For delta x = 1e-07 er feilen lik: 2.6971792976837605e-07\n",
      "For delta x = 1e-08 er feilen lik: 1.4499164535664022e-08\n",
      "For delta x = 1e-09 er feilen lik: 1.4065863069845363e-06\n",
      "For delta x = 1e-10 er feilen lik: 1.917015470098704e-05\n",
      "For delta x = 1e-11 er feilen lik: 9.022442827699706e-05\n",
      "For delta x = 1e-12 er feilen lik: 0.003287666739197448\n",
      "For delta x = 1e-13 er feilen lik: 0.018028615333605558\n",
      "For delta x = 1e-14 er feilen lik: 0.40829702612245455\n",
      "For delta x = 1e-15 er feilen lik: 2.789145284797998\n",
      "For delta x = 1e-16 er feilen lik: 17.0\n",
      "For delta x = 1e-17 er feilen lik: 17.0\n",
      "For delta x = 1e-18 er feilen lik: 17.0\n",
      "For delta x = 1e-19 er feilen lik: 17.0\n",
      "For delta x = 1e-20 er feilen lik: 17.0\n"
     ]
    }
   ],
   "source": [
    "from pylab import * \n",
    "\n",
    "def f(x):\n",
    "    return 3*x**2 + 5*x - 2\n",
    "\n",
    "#For x = 2\n",
    "analytisk_verdi = 17\n",
    "\n",
    "feil = []\n",
    "deltax = []\n",
    "\n",
    "for i in range(-1, -21, -1):\n",
    "    numerisk_verdi = fder(f, 2, h = 10**i)\n",
    "    feilen = abs(analytisk_verdi - numerisk_verdi)\n",
    "    \n",
    "    feil.append(feilen)\n",
    "    deltax.append(10**i)\n",
    "    \n",
    "    print(\"For delta x = {} er feilen lik: {}\".format(10**i, feilen))\n",
    "    \n",
    "feil = array(feil)\n",
    "deltax = array(deltax)"
   ]
  },
  {
   "cell_type": "code",
   "execution_count": 10,
   "metadata": {},
   "outputs": [
    {
     "data": {
      "image/png": "[encoded data removed]",
      "text/plain": [
       "<Figure size 432x288 with 1 Axes>"
      ]
     },
     "metadata": {
      "needs_background": "light"
     },
     "output_type": "display_data"
    }
   ],
   "source": [
    "plot(deltax, feil)\n",
    "xscale(\"log\")\n",
    "yscale(\"log\")\n",
    "xlabel(\"Deltax\")\n",
    "ylabel(\"Feilen\")\n",
    "show()"
   ]
  },
  {
   "cell_type": "markdown",
   "metadata": {},
   "source": [
    "# Derivasjon av diskrete data"
   ]
  },
  {
   "cell_type": "code",
   "execution_count": 8,
   "metadata": {},
   "outputs": [
    {
     "data": {
      "text/plain": [
       "[<matplotlib.lines.Line2D at 0x2e4bc65e6d8>]"
      ]
     },
     "execution_count": 8,
     "metadata": {},
     "output_type": "execute_result"
    },
    {
     "data": {
      "image/png": "[encoded data removed]",
      "text/plain": [
       "<Figure size 432x288 with 1 Axes>"
      ]
     },
     "metadata": {
      "needs_background": "light"
     },
     "output_type": "display_data"
    }
   ],
   "source": [
    "t = [5, 10, 15, 30, 50, 60]\n",
    "s = [115, 190, 390, 600, 1000, 1200]\n",
    "\n",
    "v = []\n",
    "v.append(0)\n",
    "\n",
    "\n",
    "for i in range(len(s) - 1):\n",
    "    sder = (s[i+1] - s[i])/(t[i+1] - t[i])\n",
    "    v.append(sder)\n",
    "    \n",
    "plot(t, s)"
   ]
  },
  {
   "cell_type": "markdown",
   "metadata": {},
   "source": []
  },
  {
   "cell_type": "code",
   "execution_count": null,
   "metadata": {},
   "outputs": [],
   "source": []
  }
 ],
 "metadata": {
  "kernelspec": {
   "display_name": "Python 3",
   "language": "python",
   "name": "python3"
  },
  "language_info": {
   "codemirror_mode": {
    "name": "ipython",
    "version": 3
   },
   "file_extension": ".py",
   "mimetype": "text/x-python",
   "name": "python",
   "nbconvert_exporter": "python",
   "pygments_lexer": "ipython3",
   "version": "3.7.3"
  }
 },
 "nbformat": 4,
 "nbformat_minor": 2
}
